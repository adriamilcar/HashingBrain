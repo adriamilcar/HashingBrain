{
 "cells": [
  {
   "cell_type": "code",
   "execution_count": 1,
   "id": "caroline-religion",
   "metadata": {},
   "outputs": [],
   "source": [
    "%matplotlib inline\n",
    "from utils import *\n",
    "from plotting import *\n",
    "from models import *\n",
    "import matplotlib.animation as animation"
   ]
  },
  {
   "cell_type": "code",
   "execution_count": 7,
   "id": "legendary-supply",
   "metadata": {},
   "outputs": [],
   "source": [
    "dataset, pose = load_dataset('dataset_animalai3', file_format='.npy', load_pose=True, pose_filename='pose.npy')"
   ]
  },
  {
   "cell_type": "code",
   "execution_count": 8,
   "id": "occasional-disease",
   "metadata": {},
   "outputs": [],
   "source": [
    "position = pose[:,:2]\n",
    "orientation = pose[:,2]"
   ]
  },
  {
   "cell_type": "code",
   "execution_count": 3,
   "id": "capable-farming",
   "metadata": {},
   "outputs": [],
   "source": [
    "embeddings = np.load('results/embeddingsTroughTime_hidden200_samples20K_batch128_orth1e3_lr1e-4_epochs1000.npy')"
   ]
  },
  {
   "cell_type": "code",
   "execution_count": 4,
   "id": "conservative-thanks",
   "metadata": {},
   "outputs": [
    {
     "data": {
      "text/plain": [
       "(1001, 20000, 200)"
      ]
     },
     "execution_count": 4,
     "metadata": {},
     "output_type": "execute_result"
    }
   ],
   "source": [
    "embeddings.shape"
   ]
  },
  {
   "cell_type": "code",
   "execution_count": 9,
   "id": "concrete-coupon",
   "metadata": {},
   "outputs": [],
   "source": [
    "ratemaps_all = []\n",
    "for i in range(embeddings.shape[0]):\n",
    "    r = ratemaps(embeddings[i], position, n_bins=50, filter_width=3, occupancy_map=[], n_bins_padding=5)\n",
    "    ratemaps_all.append(r)\n",
    "ratemaps_all = np.array(ratemaps_all)"
   ]
  },
  {
   "cell_type": "code",
   "execution_count": 11,
   "id": "future-surge",
   "metadata": {},
   "outputs": [
    {
     "data": {
      "text/plain": [
       "(1001, 200, 60, 60)"
      ]
     },
     "execution_count": 11,
     "metadata": {},
     "output_type": "execute_result"
    }
   ],
   "source": [
    "ratemaps_all.shape"
   ]
  },
  {
   "cell_type": "code",
   "execution_count": 10,
   "id": "devoted-compression",
   "metadata": {},
   "outputs": [],
   "source": [
    "#np.save('results/ratemapsTroughTime_hidden200_samples20K_batch128_orth1e3_lr1e-4_epochs1000.npy', ratemaps_all)"
   ]
  },
  {
   "cell_type": "code",
   "execution_count": 2,
   "id": "blind-foundation",
   "metadata": {},
   "outputs": [],
   "source": [
    "ratemaps_all = np.load('results/ratemapsTroughTime_hidden200_samples20K_batch128_orth1e3_lr1e-4_epochs1000.npy')"
   ]
  },
  {
   "cell_type": "code",
   "execution_count": 3,
   "id": "functioning-substance",
   "metadata": {},
   "outputs": [],
   "source": [
    "# Define a function that updates the figure for each frame of the animation\n",
    "def update(frame):\n",
    "    # Clear the previous plot\n",
    "    plt.clf()\n",
    "    for i in range(100):\n",
    "        plt.subplot(10, 10, i+1)\n",
    "        plt.imshow(ratemaps_all[frame, i,:,:], cmap='hot', origin='lower')\n",
    "        plt.axis('off')\n",
    "    plt.tight_layout()"
   ]
  },
  {
   "cell_type": "code",
   "execution_count": 4,
   "id": "inside-evanescence",
   "metadata": {},
   "outputs": [
    {
     "data": {
      "text/plain": [
       "<Figure size 12000x12000 with 0 Axes>"
      ]
     },
     "metadata": {},
     "output_type": "display_data"
    }
   ],
   "source": [
    "# Create a figure to display the heatmaps\n",
    "fig = plt.figure(figsize=(20,20), dpi=600)\n",
    "\n",
    "# Create the animation object\n",
    "ani = animation.FuncAnimation(fig, update, frames=int(ratemaps_all.shape[0]), interval=10)"
   ]
  },
  {
   "cell_type": "code",
   "execution_count": null,
   "id": "focal-wildlife",
   "metadata": {},
   "outputs": [],
   "source": [
    "#Writer = animation.writers['ffmpeg']\n",
    "#writer = Writer(fps=100, bitrate=1800)\n",
    "ani.save('plots/ratemaps.mp4')#, writer=writer)"
   ]
  },
  {
   "cell_type": "code",
   "execution_count": null,
   "id": "lonely-entry",
   "metadata": {},
   "outputs": [],
   "source": []
  },
  {
   "cell_type": "code",
   "execution_count": null,
   "id": "arabic-pakistan",
   "metadata": {},
   "outputs": [],
   "source": []
  }
 ],
 "metadata": {
  "kernelspec": {
   "display_name": "Python 3",
   "language": "python",
   "name": "python3"
  },
  "language_info": {
   "codemirror_mode": {
    "name": "ipython",
    "version": 3
   },
   "file_extension": ".py",
   "mimetype": "text/x-python",
   "name": "python",
   "nbconvert_exporter": "python",
   "pygments_lexer": "ipython3",
   "version": "3.8.5"
  }
 },
 "nbformat": 4,
 "nbformat_minor": 5
}
