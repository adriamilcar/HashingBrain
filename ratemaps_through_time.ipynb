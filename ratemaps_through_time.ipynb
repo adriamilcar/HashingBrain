{
 "cells": [
  {
   "cell_type": "code",
   "execution_count": 1,
   "id": "caroline-religion",
   "metadata": {},
   "outputs": [],
   "source": [
    "%matplotlib inline\n",
    "import numpy as np\n",
    "import matplotlib.pyplot as plt\n",
    "import matplotlib.animation as animation"
   ]
  },
  {
   "cell_type": "code",
   "execution_count": 2,
   "id": "capable-farming",
   "metadata": {},
   "outputs": [],
   "source": [
    "ratemaps = np.load('ratemaps_through_time.npy')"
   ]
  },
  {
   "cell_type": "code",
   "execution_count": 3,
   "id": "functioning-substance",
   "metadata": {},
   "outputs": [],
   "source": [
    "# Define a function that updates the figure for each frame of the animation\n",
    "def update(frame):\n",
    "    # Clear the previous plot\n",
    "    plt.clf()\n",
    "    for i in range(100):\n",
    "        plt.subplot(10, 10, i+1)\n",
    "        plt.imshow(ratemaps[frame, i,:,:], cmap='hot', origin='lower')\n",
    "        plt.axis('off')\n",
    "    plt.tight_layout()"
   ]
  },
  {
   "cell_type": "code",
   "execution_count": 4,
   "id": "inside-evanescence",
   "metadata": {},
   "outputs": [
    {
     "data": {
      "text/plain": [
       "<Figure size 12000x12000 with 0 Axes>"
      ]
     },
     "metadata": {},
     "output_type": "display_data"
    }
   ],
   "source": [
    "# Create a figure to display the heatmaps\n",
    "fig = plt.figure(figsize=(20,20), dpi=600)\n",
    "\n",
    "# Create the animation object\n",
    "ani = animation.FuncAnimation(fig, update, frames=500, interval=20)"
   ]
  },
  {
   "cell_type": "code",
   "execution_count": null,
   "id": "focal-wildlife",
   "metadata": {},
   "outputs": [],
   "source": [
    "Writer = animation.writers['ffmpeg']\n",
    "writer = Writer(fps=20, bitrate=1800)\n",
    "ani.save('heatmaps.mp4', writer=writer)"
   ]
  },
  {
   "cell_type": "code",
   "execution_count": null,
   "id": "lonely-entry",
   "metadata": {},
   "outputs": [],
   "source": []
  },
  {
   "cell_type": "code",
   "execution_count": null,
   "id": "arabic-pakistan",
   "metadata": {},
   "outputs": [],
   "source": []
  }
 ],
 "metadata": {
  "kernelspec": {
   "display_name": "Python 3",
   "language": "python",
   "name": "python3"
  },
  "language_info": {
   "codemirror_mode": {
    "name": "ipython",
    "version": 3
   },
   "file_extension": ".py",
   "mimetype": "text/x-python",
   "name": "python",
   "nbconvert_exporter": "python",
   "pygments_lexer": "ipython3",
   "version": "3.8.5"
  }
 },
 "nbformat": 4,
 "nbformat_minor": 5
}
