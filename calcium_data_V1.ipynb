{
 "cells": [
  {
   "cell_type": "markdown",
   "id": "7a1d2866",
   "metadata": {},
   "source": [
    "## Imports"
   ]
  },
  {
   "cell_type": "code",
   "execution_count": 2,
   "id": "096c53f1",
   "metadata": {},
   "outputs": [],
   "source": [
    "from scipy import signal\n",
    "from scipy.stats import pearsonr\n",
    "import numpy as np\n",
    "import matplotlib.pyplot as plt\n",
    "import matplotlib.cm\n",
    "from sklearn.decomposition import PCA\n",
    "import seaborn as sb\n",
    "from scipy.sparse.linalg import eigsh\n",
    "from sklearn.decomposition import PCA\n",
    "from scipy import io\n",
    "from scipy.sparse.linalg import eigsh"
   ]
  },
  {
   "cell_type": "markdown",
   "id": "6a633d7b",
   "metadata": {},
   "source": [
    "## Load and prepare Data"
   ]
  },
  {
   "cell_type": "code",
   "execution_count": null,
   "id": "a0432177",
   "metadata": {},
   "outputs": [],
   "source": [
    "# from https://figshare.com/articles/dataset/Recordings_of_ten_thousand_neurons_in_visual_cortex_in_response_to_2_800_natural_images/6845348\n",
    "mat_file_path = 'calcium_data/V1/natimg2800_M160825_MP027_2016-12-14.mat'\n",
    "\n",
    "mat_data = scipy.io.loadmat(mat_file_path)\n",
    "\n",
    "### stimulus responses\n",
    "resp = mat_data[‘stim’][0]['resp'][0]    # stimuli by neurons\n",
    "istim = mat_data[‘stim’][0]['istim'][0]   # identities of stimuli in resp\n",
    "spont = at_datat[‘stim’][0]['spont'][0]  # timepoints by neurons\n",
    "\n",
    "### cell information\n",
    "med = mat_data[‘med’]                 # cell centers (X Y Z)\n",
    "mat_data[‘stat’][0]     # first cell’s stats\n",
    "mat_data[‘stat’][0][‘npix’]       # one example field, tells you how pixels make up the cell\n",
    "\n",
    "### loading images\n",
    "mt = sio.loadmat('images_natimg2800_all.mat')\n",
    "imgs = mt['imgs']  # 68 by 270 by number of images\n",
    "# check out first image using matplotlib.pyplot\n",
    "plt.imshow(imgs[:,:,0])"
   ]
  },
  {
   "cell_type": "markdown",
   "id": "4813c783",
   "metadata": {},
   "source": [
    "## Utils"
   ]
  },
  {
   "cell_type": "code",
   "execution_count": 3,
   "id": "54db2dfa",
   "metadata": {},
   "outputs": [],
   "source": [
    "def get_powerlaw(ss, trange):\n",
    "    ''' fit exponent to variance curve'''\n",
    "    logss = np.log(np.abs(ss))\n",
    "    y = logss[trange][:,np.newaxis]\n",
    "    trange += 1\n",
    "    nt = trange.size\n",
    "    x = np.concatenate((-np.log(trange)[:,np.newaxis], np.ones((nt,1))), axis=1)\n",
    "    w = 1.0 / trange.astype(np.float32)[:,np.newaxis]\n",
    "    b = np.linalg.solve(x.T @ (x * w), (w * x).T @ y).flatten()\n",
    "    \n",
    "    allrange = np.arange(0, ss.size).astype(int) + 1\n",
    "    x = np.concatenate((-np.log(allrange)[:,np.newaxis], np.ones((ss.size,1))), axis=1)\n",
    "    ypred = np.exp((x * b).sum(axis=1))\n",
    "    alpha = b[0]\n",
    "    return alpha,ypred\n",
    "\n",
    "def shuff_cvPCA(X, nshuff=5):\n",
    "    ''' X is 2 x stimuli x neurons '''\n",
    "    nc = min(1024, X.shape[1])\n",
    "    ss=np.zeros((nshuff,nc))\n",
    "    for k in range(nshuff):\n",
    "        iflip = np.random.rand(X.shape[1]) > 0.5\n",
    "        X0 = X.copy()\n",
    "        X0[0,iflip] = X[1,iflip]\n",
    "        X0[1,iflip] = X[0,iflip]\n",
    "        ss[k]=cvPCA(X0)\n",
    "    return ss\n",
    "\n",
    "def cvPCA(X):\n",
    "    ''' X is 2 x stimuli x neurons '''\n",
    "    pca = PCA(n_components=min(1024, X.shape[1])).fit(X[0].T)\n",
    "    u = pca.components_.T\n",
    "    sv = pca.singular_values_\n",
    "    \n",
    "    xproj = X[0].T @ (u / sv)\n",
    "    cproj0 = X[0] @ xproj\n",
    "    cproj1 = X[1] @ xproj\n",
    "    ss = (cproj0 * cproj1).sum(axis=0)\n",
    "    return ss"
   ]
  },
  {
   "cell_type": "markdown",
   "id": "56378742",
   "metadata": {},
   "source": [
    "## Powerlaw analysis"
   ]
  },
  {
   "cell_type": "code",
   "execution_count": 4,
   "id": "13fe6413",
   "metadata": {},
   "outputs": [],
   "source": [
    "dat = io.loadmat('calcium_data/V1/natimg2800_M170714_MP032_2017-09-14.mat')\n",
    "\n",
    "resp = dat['stim'][0]['resp'][0] # stim x neurons\n",
    "spont = dat['stim'][0]['spont'][0] # timepts x neurons\n",
    "istim = (dat['stim'][0]['istim'][0]).astype(np.int32) # stim ids \n",
    "istim -= 1 # get out of MATLAB convention\n",
    "istim = istim[:,0]\n",
    "nimg = istim.max() # these are blank stims (exclude them)\n",
    "resp = resp[istim<nimg, :]\n",
    "istim = istim[istim<nimg]\n",
    "\n",
    "# subtract spont (32D)\n",
    "mu = spont.mean(axis=0)\n",
    "sd = spont.std(axis=0) + 1e-6\n",
    "resp = (resp - mu) / sd\n",
    "spont = (spont - mu) / sd\n",
    "sv,u = eigsh(spont.T @ spont, k=32)\n",
    "resp = resp - (resp @ u) @ u.T\n",
    "\n",
    "# mean center each neuron\n",
    "resp -= resp.mean(axis=0)"
   ]
  },
  {
   "cell_type": "code",
   "execution_count": 5,
   "id": "6bd99767",
   "metadata": {},
   "outputs": [
    {
     "name": "stderr",
     "output_type": "stream",
     "text": [
      "C:\\Users\\Afernandez\\AppData\\Local\\Temp\\ipykernel_30000\\1566601546.py:5: DeprecationWarning: `np.bool` is a deprecated alias for the builtin `bool`. To silence this warning, use `bool` by itself. Doing this will not modify any behavior and is safe. If you specifically wanted the numpy scalar type, use `np.bool_` here.\n",
      "Deprecated in NumPy 1.20; for more details and guidance: https://numpy.org/devdocs/release/1.20.0-notes.html#deprecations\n",
      "  inan = np.zeros((nimg,), np.bool)\n"
     ]
    },
    {
     "name": "stdout",
     "output_type": "stream",
     "text": [
      "fraction of signal variance: 0.165\n"
     ]
    }
   ],
   "source": [
    "### sanity check - decent signal variance ?\n",
    "# split stimuli into two repeats\n",
    "NN = resp.shape[1]\n",
    "sresp = np.zeros((2, nimg, NN), np.float64)\n",
    "inan = np.zeros((nimg,), np.bool)\n",
    "for n in range(nimg):\n",
    "    ist = (istim==n).nonzero()[0]\n",
    "    i1 = ist[:int(ist.size/2)]\n",
    "    i2 = ist[int(ist.size/2):]\n",
    "    # check if two repeats of stim\n",
    "    if np.logical_or(i2.size < 1, i1.size < 1):\n",
    "        inan[n] = 1\n",
    "    else:\n",
    "        sresp[0, n, :] = resp[i1, :].mean(axis=0)\n",
    "        sresp[1, n, :] = resp[i2, :].mean(axis=0)\n",
    "        \n",
    "# remove image responses without two repeats\n",
    "sresp = sresp[:,~inan,:]\n",
    "    \n",
    "snorm = sresp - sresp.mean(axis=1)[:,np.newaxis,:]\n",
    "snorm = snorm / (snorm.std(axis=1)[:,np.newaxis,:] + 1e-6)\n",
    "\n",
    "cc = (snorm[0].T @ snorm[1]) / sresp.shape[1]\n",
    "\n",
    "print('fraction of signal variance: %2.3f'%np.diag(cc).mean())"
   ]
  },
  {
   "cell_type": "code",
   "execution_count": 6,
   "id": "7c67bcc1",
   "metadata": {},
   "outputs": [
    {
     "name": "stdout",
     "output_type": "stream",
     "text": [
      "decoding accuracy: 0.412\n"
     ]
    }
   ],
   "source": [
    "### sanity check - decent decoding ?\n",
    "# 1 nearest neighbor decoder    \n",
    "# (mean already subtracted)\n",
    "cc = sresp[0] @ sresp[1].T\n",
    "cc /= (sresp[0]**2).sum()\n",
    "cc /= (sresp[1]**2).sum()\n",
    "nstims = sresp.shape[1]\n",
    "print('decoding accuracy: %2.3f'%(cc.argmax(axis=1)==np.arange(0,nstims,1,int)).mean())"
   ]
  },
  {
   "cell_type": "code",
   "execution_count": null,
   "id": "ddfb88dd",
   "metadata": {},
   "outputs": [],
   "source": [
    "### sanity check - is the powerlaw close to 1 ?\n",
    "# powerlaw\n",
    "\n",
    "# compute cvPCA\n",
    "ss = shuff_cvPCA(sresp)\n",
    "\n",
    "# compute powerlaw of averaged shuffles\n",
    "ss = ss.mean(axis=0)\n",
    "alpha,ypred = get_powerlaw(ss/ss.sum(), np.arange(11,5e2).astype(int))  \n",
    "print('powerlaw, alpha=%2.3f'%alpha)\n",
    "\n",
    "plt.loglog(np.arange(0,ss.size)+1, ss/ss.sum())\n",
    "plt.loglog(np.arange(0,ss.size)+1, ypred, c='k')\n",
    "plt.show()"
   ]
  },
  {
   "cell_type": "code",
   "execution_count": 7,
   "id": "c50dca94",
   "metadata": {},
   "outputs": [
    {
     "data": {
      "text/plain": [
       "(2, 2800, 9476)"
      ]
     },
     "execution_count": 7,
     "metadata": {},
     "output_type": "execute_result"
    }
   ],
   "source": [
    "sresp.shape"
   ]
  },
  {
   "cell_type": "code",
   "execution_count": 8,
   "id": "f311e2fe",
   "metadata": {},
   "outputs": [],
   "source": [
    "data = sresp[0]"
   ]
  },
  {
   "cell_type": "code",
   "execution_count": 9,
   "id": "950bcdfc",
   "metadata": {},
   "outputs": [
    {
     "data": {
      "text/plain": [
       "(2800, 9476)"
      ]
     },
     "execution_count": 9,
     "metadata": {},
     "output_type": "execute_result"
    }
   ],
   "source": [
    "data.shape"
   ]
  },
  {
   "cell_type": "code",
   "execution_count": 13,
   "id": "eaf1bced",
   "metadata": {},
   "outputs": [
    {
     "data": {
      "text/plain": [
       "0.6080321073532104"
      ]
     },
     "execution_count": 13,
     "metadata": {},
     "output_type": "execute_result"
    }
   ],
   "source": [
    "data[4,0]"
   ]
  },
  {
   "cell_type": "markdown",
   "id": "37f2d384",
   "metadata": {},
   "source": [
    "## Pairwise correlations"
   ]
  },
  {
   "cell_type": "code",
   "execution_count": 16,
   "id": "d2d0d9de",
   "metadata": {},
   "outputs": [],
   "source": [
    "def compute_pairwise_correlations(data):\n",
    "    \"\"\"\n",
    "    Compute the overall pairwise correlation level for each session of each animal.\n",
    "\n",
    "    Parameters:\n",
    "    data (dict): A nested dictionary where the first key is the animal ID and the second key is the session ID, \n",
    "                 mapping to a data matrix for that session.\n",
    "    p_value_threshold (float): The threshold for considering correlations as significant.\n",
    "\n",
    "    Returns:\n",
    "    correlations (dict): A nested dictionary with the mean correlation for each session of each animal.\n",
    "    \"\"\"\n",
    "    n_neurons = data.shape[1]\n",
    "    correlation = []\n",
    "    for i in range(n_neurons):\n",
    "        print(str(i)+'/'+str(n_neurons))\n",
    "        for j in range(i+1, n_neurons):\n",
    "            corr, p_value = pearsonr(data[:, i], data[:, j])\n",
    "            correlation.append(corr)\n",
    "\n",
    "    return correlations"
   ]
  },
  {
   "cell_type": "code",
   "execution_count": 17,
   "id": "86eb2360",
   "metadata": {
    "scrolled": true
   },
   "outputs": [
    {
     "name": "stdout",
     "output_type": "stream",
     "text": [
      "0/9476\n",
      "1/9476\n",
      "2/9476\n",
      "3/9476\n",
      "4/9476\n",
      "5/9476\n",
      "6/9476\n",
      "7/9476\n",
      "8/9476\n",
      "9/9476\n",
      "10/9476\n",
      "11/9476\n",
      "12/9476\n",
      "13/9476\n",
      "14/9476\n",
      "15/9476\n",
      "16/9476\n",
      "17/9476\n",
      "18/9476\n",
      "19/9476\n",
      "20/9476\n",
      "21/9476\n",
      "22/9476\n",
      "23/9476\n",
      "24/9476\n",
      "25/9476\n",
      "26/9476\n",
      "27/9476\n",
      "28/9476\n",
      "29/9476\n",
      "30/9476\n",
      "31/9476\n",
      "32/9476\n",
      "33/9476\n",
      "34/9476\n",
      "35/9476\n",
      "36/9476\n",
      "37/9476\n",
      "38/9476\n",
      "39/9476\n",
      "40/9476\n",
      "41/9476\n",
      "42/9476\n",
      "43/9476\n",
      "44/9476\n",
      "45/9476\n",
      "46/9476\n",
      "47/9476\n",
      "48/9476\n",
      "49/9476\n",
      "50/9476\n",
      "51/9476\n",
      "52/9476\n",
      "53/9476\n",
      "54/9476\n",
      "55/9476\n",
      "56/9476\n",
      "57/9476\n",
      "58/9476\n",
      "59/9476\n",
      "60/9476\n",
      "61/9476\n",
      "62/9476\n",
      "63/9476\n",
      "64/9476\n",
      "65/9476\n",
      "66/9476\n",
      "67/9476\n",
      "68/9476\n",
      "69/9476\n",
      "70/9476\n",
      "71/9476\n",
      "72/9476\n",
      "73/9476\n",
      "74/9476\n",
      "75/9476\n",
      "76/9476\n",
      "77/9476\n",
      "78/9476\n",
      "79/9476\n",
      "80/9476\n",
      "81/9476\n",
      "82/9476\n",
      "83/9476\n",
      "84/9476\n",
      "85/9476\n",
      "86/9476\n",
      "87/9476\n",
      "88/9476\n",
      "89/9476\n",
      "90/9476\n",
      "91/9476\n",
      "92/9476\n",
      "93/9476\n",
      "94/9476\n",
      "95/9476\n",
      "96/9476\n",
      "97/9476\n",
      "98/9476\n",
      "99/9476\n",
      "100/9476\n",
      "101/9476\n",
      "102/9476\n",
      "103/9476\n",
      "104/9476\n",
      "105/9476\n",
      "106/9476\n",
      "107/9476\n",
      "108/9476\n",
      "109/9476\n",
      "110/9476\n",
      "111/9476\n",
      "112/9476\n",
      "113/9476\n",
      "114/9476\n",
      "115/9476\n",
      "116/9476\n",
      "117/9476\n",
      "118/9476\n",
      "119/9476\n",
      "120/9476\n",
      "121/9476\n",
      "122/9476\n",
      "123/9476\n",
      "124/9476\n",
      "125/9476\n",
      "126/9476\n",
      "127/9476\n",
      "128/9476\n",
      "129/9476\n",
      "130/9476\n"
     ]
    },
    {
     "name": "stderr",
     "output_type": "stream",
     "text": [
      "\n",
      "KeyboardInterrupt\n",
      "\n"
     ]
    }
   ],
   "source": [
    "correlations = compute_pairwise_correlations(data)"
   ]
  },
  {
   "cell_type": "code",
   "execution_count": null,
   "id": "7d8568fb",
   "metadata": {},
   "outputs": [],
   "source": [
    "plt.figure(figsize=(10,4))\n",
    "\n",
    "plt.hist(correlations, bins=200, color='k', alpha=1, edgecolor='white', linewidth=.5)\n",
    "\n",
    "plt.axvline(x=np.mean(correlations), color='white', linestyle='--')\n",
    "\n",
    "plt.xlabel('Corr. coef. (ρ)', fontsize=18)\n",
    "plt.ylabel('No. of neuron pairs', fontsize=18)\n",
    "\n",
    "plt.xticks(fontsize=16)\n",
    "plt.yticks(fontsize=16)\n",
    "\n",
    "plt.xlim(-0.15, 0.5)\n",
    "\n",
    "sb.despine()\n",
    "#plt.savefig('plots/pairwiseCorrDistr.png', dpi=600)\n",
    "plt.show()"
   ]
  },
  {
   "cell_type": "code",
   "execution_count": null,
   "id": "1c0404b3",
   "metadata": {},
   "outputs": [],
   "source": []
  }
 ],
 "metadata": {
  "kernelspec": {
   "display_name": "Python 3 (ipykernel)",
   "language": "python",
   "name": "python3"
  },
  "language_info": {
   "codemirror_mode": {
    "name": "ipython",
    "version": 3
   },
   "file_extension": ".py",
   "mimetype": "text/x-python",
   "name": "python",
   "nbconvert_exporter": "python",
   "pygments_lexer": "ipython3",
   "version": "3.10.9"
  }
 },
 "nbformat": 4,
 "nbformat_minor": 5
}
